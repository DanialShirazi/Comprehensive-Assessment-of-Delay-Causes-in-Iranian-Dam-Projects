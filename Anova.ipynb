{
  "cells": [
    {
      "cell_type": "code",
      "execution_count": null,
      "metadata": {
        "id": "IPquEKeJUgu5"
      },
      "outputs": [],
      "source": [
        "import pandas as pd\n",
        "from sklearn.feature_selection import f_classif"
      ]
    },
    {
      "cell_type": "code",
      "execution_count": null,
      "metadata": {
        "id": "OLiKMbDCUg4j"
      },
      "outputs": [],
      "source": [
        "data = pd.read_excel(r'https://github.com/DanialShirazi/delay-prediction/raw/main/Input%20Dataset.xlsx',\n",
        "                           sheet_name='dataset',index_col=0, engine='openpyxl')\n",
        "X = data.values[:,0:65]\n",
        "y = data.label"
      ]
    },
    {
      "cell_type": "code",
      "execution_count": null,
      "metadata": {
        "id": "fHbsx0zGUY3d"
      },
      "outputs": [],
      "source": [
        "import numpy as np\n",
        "from scipy.stats import boxcox, shapiro\n",
        "\n",
        "# Assuming 'X' is your numpy array\n",
        "X_transformed = np.copy(X)  # Create a copy of 'X'\n",
        "\n",
        "for i in range(X.shape[1]):\n",
        "    # Perform the Shapiro-Wilk test\n",
        "    _, p_value = shapiro(X[:, i])\n",
        "\n",
        "    # If p-value is less than 0.05, apply the Box-Cox transformation\n",
        "    if p_value < 0.05:\n",
        "        X_transformed[:, i], _ = boxcox(X[:, i] + 1e-7)\n",
        "\n",
        "# 'X_transformed' now contains the transformed features"
      ]
    },
    {
      "cell_type": "code",
      "execution_count": null,
      "metadata": {
        "id": "VdL5Gkb5VLGv"
      },
      "outputs": [],
      "source": [
        "anova_scores, anova_pvalues = f_classif(X_transformed, y)"
      ]
    },
    {
      "cell_type": "code",
      "source": [
        "anova_scores, anova_pvalues"
      ],
      "metadata": {
        "colab": {
          "base_uri": "https://localhost:8080/"
        },
        "id": "sA1DH9XpJBxn",
        "outputId": "d369c839-4b2a-4be9-8c7e-58ea9bd51a83"
      },
      "execution_count": null,
      "outputs": [
        {
          "output_type": "execute_result",
          "data": {
            "text/plain": [
              "(array([ 4.74904263,  9.67813885, 25.51342181, 21.82579633, 19.81524501,\n",
              "         1.85840782,  7.29711755,  0.45890629,  8.85566898, 11.92162057,\n",
              "        12.11941345, 15.03522663, 28.95011462, 12.44263021, 11.46399515,\n",
              "         4.20662692, 17.71796951, 20.39790648, 17.42502862,  9.99411106,\n",
              "         7.24170713, 20.84346609, 10.9581266 ,  4.29746073,  8.19817724,\n",
              "        11.28193526,  7.7041359 ,  2.80412948,  7.56318003,  4.20970373,\n",
              "         5.46201201,  3.02835219,  0.84650069, 17.84891543,  2.03088352,\n",
              "         1.68623329,  4.43552191,  0.98400323,  7.7865589 ,  1.15682977,\n",
              "         1.4325863 , 10.54335619,  0.92750585, 18.76777077,  6.51670375,\n",
              "        13.68634271, 14.34357077,  4.93273953,  6.87355165,  7.68067899,\n",
              "        16.94054162, 10.08863573,  7.0210598 , 12.99068206,  0.37382049,\n",
              "        10.06572839,  3.39185691,  0.17215747,  3.58523515,  9.11322397,\n",
              "         0.58223913, 26.06970334, 10.87979613,  5.24347763,  1.43701896]),\n",
              " array([1.29322880e-02, 2.79966255e-04, 2.30850328e-08, 1.53592822e-07,\n",
              "        4.60103821e-07, 1.66530436e-01, 1.65731901e-03, 6.34609626e-01,\n",
              "        5.10170360e-04, 5.84092117e-05, 5.11060824e-05, 7.71690110e-06,\n",
              "        4.45339200e-09, 4.11473146e-05, 7.97799879e-05, 2.04863760e-02,\n",
              "        1.52487829e-06, 3.33122962e-07, 1.81111746e-06, 2.23164994e-04,\n",
              "        1.73001352e-03, 2.60954066e-07, 1.13128958e-04, 1.89561744e-02,\n",
              "        8.32998529e-04, 9.04147146e-05, 1.21180641e-03, 7.01080131e-02,\n",
              "        1.34998816e-03, 2.04324957e-02, 7.15378020e-03, 5.73536506e-02,\n",
              "        4.34967081e-01, 1.41255177e-06, 1.41903854e-01, 1.95577215e-01,\n",
              "        1.68541442e-02, 3.80933070e-01, 1.13790046e-03, 3.22754694e-01,\n",
              "        2.48318312e-01, 1.51195677e-04, 4.02236703e-01, 8.31073697e-07,\n",
              "        3.05478380e-03, 1.81785127e-05, 1.19304241e-05, 1.10876256e-02,\n",
              "        2.30535989e-03, 1.23373942e-03, 2.41351138e-06, 2.08611452e-04,\n",
              "        2.05403422e-03, 2.86136295e-05, 6.90007230e-01, 2.12045277e-04,\n",
              "        4.15580612e-02, 8.42343483e-01, 3.50716330e-02, 4.22115282e-04,\n",
              "        5.62388411e-01, 1.75556470e-08, 1.19467850e-04, 8.56459855e-03,\n",
              "        2.47279524e-01]))"
            ]
          },
          "metadata": {},
          "execution_count": 5
        }
      ]
    },
    {
      "cell_type": "code",
      "source": [
        "X = pd.DataFrame(X_transformed)"
      ],
      "metadata": {
        "id": "QEv7T10dJEC0"
      },
      "execution_count": null,
      "outputs": []
    },
    {
      "cell_type": "code",
      "source": [
        "# Create a DataFrame to store the feature names, F-value scores, and p-values\n",
        "feature_scores = pd.DataFrame({'Feature': X.columns, 'F-value': anova_scores, 'p-value': anova_pvalues})\n",
        "\n",
        "# Sort the DataFrame by F-value scores in descending order\n",
        "feature_ranking = feature_scores.sort_values('F-value', ascending=False)\n",
        "\n",
        "# Display the feature ranking\n",
        "print(feature_ranking)"
      ],
      "metadata": {
        "colab": {
          "base_uri": "https://localhost:8080/"
        },
        "id": "ulHrJUbIJJiV",
        "outputId": "4d9a77b2-5b55-4eec-f611-894689e25958"
      },
      "execution_count": null,
      "outputs": [
        {
          "output_type": "stream",
          "name": "stdout",
          "text": [
            "    Feature    F-value       p-value\n",
            "12       12  28.950115  4.453392e-09\n",
            "61       61  26.069703  1.755565e-08\n",
            "2         2  25.513422  2.308503e-08\n",
            "3         3  21.825796  1.535928e-07\n",
            "21       21  20.843466  2.609541e-07\n",
            "..      ...        ...           ...\n",
            "32       32   0.846501  4.349671e-01\n",
            "60       60   0.582239  5.623884e-01\n",
            "7         7   0.458906  6.346096e-01\n",
            "54       54   0.373820  6.900072e-01\n",
            "57       57   0.172157  8.423435e-01\n",
            "\n",
            "[65 rows x 3 columns]\n"
          ]
        }
      ]
    },
    {
      "cell_type": "code",
      "source": [
        "feature_ranking"
      ],
      "metadata": {
        "colab": {
          "base_uri": "https://localhost:8080/",
          "height": 655
        },
        "id": "3SEkev2VJNkG",
        "outputId": "0af8c766-a2fe-41d8-907a-88174b799b6f"
      },
      "execution_count": null,
      "outputs": [
        {
          "output_type": "execute_result",
          "data": {
            "text/plain": [
              "    Feature    F-value       p-value\n",
              "12       12  28.950115  4.453392e-09\n",
              "61       61  26.069703  1.755565e-08\n",
              "2         2  25.513422  2.308503e-08\n",
              "3         3  21.825796  1.535928e-07\n",
              "21       21  20.843466  2.609541e-07\n",
              "..      ...        ...           ...\n",
              "32       32   0.846501  4.349671e-01\n",
              "60       60   0.582239  5.623884e-01\n",
              "7         7   0.458906  6.346096e-01\n",
              "54       54   0.373820  6.900072e-01\n",
              "57       57   0.172157  8.423435e-01\n",
              "\n",
              "[65 rows x 3 columns]"
            ],
            "text/html": [
              "\n",
              "  <div id=\"df-2b3b1ddd-a481-49b5-b229-790b7a5e1dda\">\n",
              "    <div class=\"colab-df-container\">\n",
              "      <div>\n",
              "<style scoped>\n",
              "    .dataframe tbody tr th:only-of-type {\n",
              "        vertical-align: middle;\n",
              "    }\n",
              "\n",
              "    .dataframe tbody tr th {\n",
              "        vertical-align: top;\n",
              "    }\n",
              "\n",
              "    .dataframe thead th {\n",
              "        text-align: right;\n",
              "    }\n",
              "</style>\n",
              "<table border=\"1\" class=\"dataframe\">\n",
              "  <thead>\n",
              "    <tr style=\"text-align: right;\">\n",
              "      <th></th>\n",
              "      <th>Feature</th>\n",
              "      <th>F-value</th>\n",
              "      <th>p-value</th>\n",
              "    </tr>\n",
              "  </thead>\n",
              "  <tbody>\n",
              "    <tr>\n",
              "      <th>12</th>\n",
              "      <td>12</td>\n",
              "      <td>28.950115</td>\n",
              "      <td>4.453392e-09</td>\n",
              "    </tr>\n",
              "    <tr>\n",
              "      <th>61</th>\n",
              "      <td>61</td>\n",
              "      <td>26.069703</td>\n",
              "      <td>1.755565e-08</td>\n",
              "    </tr>\n",
              "    <tr>\n",
              "      <th>2</th>\n",
              "      <td>2</td>\n",
              "      <td>25.513422</td>\n",
              "      <td>2.308503e-08</td>\n",
              "    </tr>\n",
              "    <tr>\n",
              "      <th>3</th>\n",
              "      <td>3</td>\n",
              "      <td>21.825796</td>\n",
              "      <td>1.535928e-07</td>\n",
              "    </tr>\n",
              "    <tr>\n",
              "      <th>21</th>\n",
              "      <td>21</td>\n",
              "      <td>20.843466</td>\n",
              "      <td>2.609541e-07</td>\n",
              "    </tr>\n",
              "    <tr>\n",
              "      <th>...</th>\n",
              "      <td>...</td>\n",
              "      <td>...</td>\n",
              "      <td>...</td>\n",
              "    </tr>\n",
              "    <tr>\n",
              "      <th>32</th>\n",
              "      <td>32</td>\n",
              "      <td>0.846501</td>\n",
              "      <td>4.349671e-01</td>\n",
              "    </tr>\n",
              "    <tr>\n",
              "      <th>60</th>\n",
              "      <td>60</td>\n",
              "      <td>0.582239</td>\n",
              "      <td>5.623884e-01</td>\n",
              "    </tr>\n",
              "    <tr>\n",
              "      <th>7</th>\n",
              "      <td>7</td>\n",
              "      <td>0.458906</td>\n",
              "      <td>6.346096e-01</td>\n",
              "    </tr>\n",
              "    <tr>\n",
              "      <th>54</th>\n",
              "      <td>54</td>\n",
              "      <td>0.373820</td>\n",
              "      <td>6.900072e-01</td>\n",
              "    </tr>\n",
              "    <tr>\n",
              "      <th>57</th>\n",
              "      <td>57</td>\n",
              "      <td>0.172157</td>\n",
              "      <td>8.423435e-01</td>\n",
              "    </tr>\n",
              "  </tbody>\n",
              "</table>\n",
              "<p>65 rows × 3 columns</p>\n",
              "</div>\n",
              "      <button class=\"colab-df-convert\" onclick=\"convertToInteractive('df-2b3b1ddd-a481-49b5-b229-790b7a5e1dda')\"\n",
              "              title=\"Convert this dataframe to an interactive table.\"\n",
              "              style=\"display:none;\">\n",
              "        \n",
              "  <svg xmlns=\"http://www.w3.org/2000/svg\" height=\"24px\"viewBox=\"0 0 24 24\"\n",
              "       width=\"24px\">\n",
              "    <path d=\"M0 0h24v24H0V0z\" fill=\"none\"/>\n",
              "    <path d=\"M18.56 5.44l.94 2.06.94-2.06 2.06-.94-2.06-.94-.94-2.06-.94 2.06-2.06.94zm-11 1L8.5 8.5l.94-2.06 2.06-.94-2.06-.94L8.5 2.5l-.94 2.06-2.06.94zm10 10l.94 2.06.94-2.06 2.06-.94-2.06-.94-.94-2.06-.94 2.06-2.06.94z\"/><path d=\"M17.41 7.96l-1.37-1.37c-.4-.4-.92-.59-1.43-.59-.52 0-1.04.2-1.43.59L10.3 9.45l-7.72 7.72c-.78.78-.78 2.05 0 2.83L4 21.41c.39.39.9.59 1.41.59.51 0 1.02-.2 1.41-.59l7.78-7.78 2.81-2.81c.8-.78.8-2.07 0-2.86zM5.41 20L4 18.59l7.72-7.72 1.47 1.35L5.41 20z\"/>\n",
              "  </svg>\n",
              "      </button>\n",
              "      \n",
              "  <style>\n",
              "    .colab-df-container {\n",
              "      display:flex;\n",
              "      flex-wrap:wrap;\n",
              "      gap: 12px;\n",
              "    }\n",
              "\n",
              "    .colab-df-convert {\n",
              "      background-color: #E8F0FE;\n",
              "      border: none;\n",
              "      border-radius: 50%;\n",
              "      cursor: pointer;\n",
              "      display: none;\n",
              "      fill: #1967D2;\n",
              "      height: 32px;\n",
              "      padding: 0 0 0 0;\n",
              "      width: 32px;\n",
              "    }\n",
              "\n",
              "    .colab-df-convert:hover {\n",
              "      background-color: #E2EBFA;\n",
              "      box-shadow: 0px 1px 2px rgba(60, 64, 67, 0.3), 0px 1px 3px 1px rgba(60, 64, 67, 0.15);\n",
              "      fill: #174EA6;\n",
              "    }\n",
              "\n",
              "    [theme=dark] .colab-df-convert {\n",
              "      background-color: #3B4455;\n",
              "      fill: #D2E3FC;\n",
              "    }\n",
              "\n",
              "    [theme=dark] .colab-df-convert:hover {\n",
              "      background-color: #434B5C;\n",
              "      box-shadow: 0px 1px 3px 1px rgba(0, 0, 0, 0.15);\n",
              "      filter: drop-shadow(0px 1px 2px rgba(0, 0, 0, 0.3));\n",
              "      fill: #FFFFFF;\n",
              "    }\n",
              "  </style>\n",
              "\n",
              "      <script>\n",
              "        const buttonEl =\n",
              "          document.querySelector('#df-2b3b1ddd-a481-49b5-b229-790b7a5e1dda button.colab-df-convert');\n",
              "        buttonEl.style.display =\n",
              "          google.colab.kernel.accessAllowed ? 'block' : 'none';\n",
              "\n",
              "        async function convertToInteractive(key) {\n",
              "          const element = document.querySelector('#df-2b3b1ddd-a481-49b5-b229-790b7a5e1dda');\n",
              "          const dataTable =\n",
              "            await google.colab.kernel.invokeFunction('convertToInteractive',\n",
              "                                                     [key], {});\n",
              "          if (!dataTable) return;\n",
              "\n",
              "          const docLinkHtml = 'Like what you see? Visit the ' +\n",
              "            '<a target=\"_blank\" href=https://colab.research.google.com/notebooks/data_table.ipynb>data table notebook</a>'\n",
              "            + ' to learn more about interactive tables.';\n",
              "          element.innerHTML = '';\n",
              "          dataTable['output_type'] = 'display_data';\n",
              "          await google.colab.output.renderOutput(dataTable, element);\n",
              "          const docLink = document.createElement('div');\n",
              "          docLink.innerHTML = docLinkHtml;\n",
              "          element.appendChild(docLink);\n",
              "        }\n",
              "      </script>\n",
              "    </div>\n",
              "  </div>\n",
              "  "
            ]
          },
          "metadata": {},
          "execution_count": 8
        }
      ]
    },
    {
      "cell_type": "code",
      "source": [],
      "metadata": {
        "id": "Zm38kZ_mJScU"
      },
      "execution_count": null,
      "outputs": []
    }
  ],
  "metadata": {
    "colab": {
      "provenance": []
    },
    "kernelspec": {
      "display_name": "Python 3",
      "name": "python3"
    },
    "language_info": {
      "name": "python"
    }
  },
  "nbformat": 4,
  "nbformat_minor": 0
}